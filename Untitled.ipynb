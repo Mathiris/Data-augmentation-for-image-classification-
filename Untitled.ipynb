{
 "cells": [
  {
   "cell_type": "code",
   "execution_count": 234,
   "metadata": {},
   "outputs": [],
   "source": [
    "import os\n",
    "import pandas as pd\n",
    "import tensorflow as tf\n",
    "import pathlib\n",
    "from tensorflow import keras\n",
    "from tensorflow.keras import layers\n",
    "from tensorflow.keras.models import Sequential\n",
    "import matplotlib.pyplot as plt"
   ]
  },
  {
   "cell_type": "code",
   "execution_count": 235,
   "metadata": {},
   "outputs": [],
   "source": [
    "list_class = os.listdir('../dataset/train')\n",
    "list_tuple = []\n",
    "for element in list_class :\n",
    "    nb = os.listdir('../dataset/train/'+element)\n",
    "    tuple = (element, len(nb))\n",
    "    list_tuple.append(tuple)"
   ]
  },
  {
   "cell_type": "code",
   "execution_count": 236,
   "metadata": {},
   "outputs": [],
   "source": [
    "df = pd.DataFrame(list_tuple, columns =['Class', 'Number'])"
   ]
  },
  {
   "cell_type": "code",
   "execution_count": 237,
   "metadata": {},
   "outputs": [
    {
     "data": {
      "image/png": "[encoded data removed]",
      "text/plain": [
       "<Figure size 1440x360 with 1 Axes>"
      ]
     },
     "metadata": {
      "needs_background": "light"
     },
     "output_type": "display_data"
    }
   ],
   "source": [
    "ax = df.plot.bar(x='Class', y='Number', rot=0, figsize=(20,5), title=\"class repartition\", legend=False)"
   ]
  },
  {
   "cell_type": "code",
   "execution_count": 238,
   "metadata": {},
   "outputs": [],
   "source": [
    "batch_size = 16\n",
    "img_height = 128\n",
    "img_width = 128"
   ]
  },
  {
   "cell_type": "code",
   "execution_count": 239,
   "metadata": {},
   "outputs": [],
   "source": [
    "data_dir_train = '../dataset/train'\n",
    "os.listdir(data_dir_train)\n",
    "data_dir_train = pathlib.Path(data_dir_train)"
   ]
  },
  {
   "cell_type": "code",
   "execution_count": 240,
   "metadata": {},
   "outputs": [
    {
     "name": "stdout",
     "output_type": "stream",
     "text": [
      "Found 145 files belonging to 2 classes.\n"
     ]
    }
   ],
   "source": [
    "train_dataset = tf.keras.utils.image_dataset_from_directory(\n",
    "  data_dir_train,\n",
    "  seed=1,\n",
    "  image_size=(img_height, img_width),\n",
    "  batch_size=batch_size)"
   ]
  },
  {
   "cell_type": "code",
   "execution_count": 241,
   "metadata": {},
   "outputs": [],
   "source": [
    "data_dir_val = '../dataset/validation'\n",
    "os.listdir(data_dir_val)\n",
    "data_dir_train = pathlib.Path(data_dir_val)"
   ]
  },
  {
   "cell_type": "code",
   "execution_count": 242,
   "metadata": {},
   "outputs": [
    {
     "name": "stdout",
     "output_type": "stream",
     "text": [
      "Found 77 files belonging to 2 classes.\n"
     ]
    }
   ],
   "source": [
    "validation_dataset = tf.keras.utils.image_dataset_from_directory(\n",
    "    data_dir_val,\n",
    "    seed=1,\n",
    "    image_size=(img_height, img_width),\n",
    "    batch_size=batch_size)"
   ]
  },
  {
   "cell_type": "code",
   "execution_count": 243,
   "metadata": {},
   "outputs": [
    {
     "name": "stdout",
     "output_type": "stream",
     "text": [
      "['arret', 'stationnement']\n"
     ]
    }
   ],
   "source": [
    "class_names = train_dataset.class_names\n",
    "print(class_names)"
   ]
  },
  {
   "cell_type": "code",
   "execution_count": 244,
   "metadata": {},
   "outputs": [],
   "source": [
    "model = Sequential([\n",
    "  layers.Rescaling(1./255, input_shape=(img_height, img_width, 3)),\n",
    "  layers.Conv2D(16, 3, padding='same', activation='relu'),\n",
    "  layers.MaxPooling2D(),\n",
    "  layers.Conv2D(32, 3, padding='same', activation='relu'),\n",
    "  layers.MaxPooling2D(),\n",
    "  layers.Flatten(),\n",
    "  layers.Dense(len(class_names)),\n",
    "])"
   ]
  },
  {
   "cell_type": "code",
   "execution_count": 245,
   "metadata": {},
   "outputs": [],
   "source": [
    "model.compile(optimizer='adam',\n",
    "              loss=tf.keras.losses.SparseCategoricalCrossentropy(from_logits=True),\n",
    "              metrics=['accuracy'])"
   ]
  },
  {
   "cell_type": "code",
   "execution_count": 246,
   "metadata": {},
   "outputs": [
    {
     "name": "stdout",
     "output_type": "stream",
     "text": [
      "Model: \"sequential_14\"\n",
      "_________________________________________________________________\n",
      "Layer (type)                 Output Shape              Param #   \n",
      "=================================================================\n",
      "rescaling_14 (Rescaling)     (None, 128, 128, 3)       0         \n",
      "_________________________________________________________________\n",
      "conv2d_23 (Conv2D)           (None, 128, 128, 16)      448       \n",
      "_________________________________________________________________\n",
      "max_pooling2d_23 (MaxPooling (None, 64, 64, 16)        0         \n",
      "_________________________________________________________________\n",
      "conv2d_24 (Conv2D)           (None, 64, 64, 32)        4640      \n",
      "_________________________________________________________________\n",
      "max_pooling2d_24 (MaxPooling (None, 32, 32, 32)        0         \n",
      "_________________________________________________________________\n",
      "flatten_14 (Flatten)         (None, 32768)             0         \n",
      "_________________________________________________________________\n",
      "dense_14 (Dense)             (None, 2)                 65538     \n",
      "=================================================================\n",
      "Total params: 70,626\n",
      "Trainable params: 70,626\n",
      "Non-trainable params: 0\n",
      "_________________________________________________________________\n"
     ]
    }
   ],
   "source": [
    "model.summary()"
   ]
  },
  {
   "cell_type": "code",
   "execution_count": 247,
   "metadata": {},
   "outputs": [
    {
     "name": "stdout",
     "output_type": "stream",
     "text": [
      "Epoch 1/10\n",
      "10/10 [==============================] - 1s 89ms/step - loss: 0.8261 - accuracy: 0.5793 - val_loss: 0.6993 - val_accuracy: 0.4675\n",
      "Epoch 2/10\n",
      "10/10 [==============================] - 1s 80ms/step - loss: 0.5721 - accuracy: 0.6552 - val_loss: 0.6958 - val_accuracy: 0.4805\n",
      "Epoch 3/10\n",
      "10/10 [==============================] - 1s 78ms/step - loss: 0.5759 - accuracy: 0.7931 - val_loss: 0.6367 - val_accuracy: 0.5325\n",
      "Epoch 4/10\n",
      "10/10 [==============================] - 1s 80ms/step - loss: 0.4653 - accuracy: 0.7034 - val_loss: 0.6474 - val_accuracy: 0.5844\n",
      "Epoch 5/10\n",
      "10/10 [==============================] - 1s 80ms/step - loss: 0.3700 - accuracy: 0.8207 - val_loss: 0.5303 - val_accuracy: 0.7273\n",
      "Epoch 6/10\n",
      "10/10 [==============================] - 1s 79ms/step - loss: 0.3022 - accuracy: 0.8828 - val_loss: 0.5435 - val_accuracy: 0.7403\n",
      "Epoch 7/10\n",
      "10/10 [==============================] - 1s 78ms/step - loss: 0.2097 - accuracy: 0.9241 - val_loss: 0.5628 - val_accuracy: 0.7922\n",
      "Epoch 8/10\n",
      "10/10 [==============================] - 1s 80ms/step - loss: 0.3196 - accuracy: 0.8276 - val_loss: 0.6489 - val_accuracy: 0.6623\n",
      "Epoch 9/10\n",
      "10/10 [==============================] - 1s 80ms/step - loss: 0.2456 - accuracy: 0.9517 - val_loss: 0.6072 - val_accuracy: 0.7403\n",
      "Epoch 10/10\n",
      "10/10 [==============================] - 1s 78ms/step - loss: 0.1726 - accuracy: 0.9724 - val_loss: 0.6435 - val_accuracy: 0.7143\n"
     ]
    }
   ],
   "source": [
    "epochs=10\n",
    "history = model.fit(\n",
    "  train_dataset,\n",
    "  validation_data=validation_dataset,\n",
    "  epochs=epochs\n",
    ")"
   ]
  },
  {
   "cell_type": "code",
   "execution_count": 248,
   "metadata": {},
   "outputs": [
    {
     "data": {
      "image/png": "[encoded data removed]",
      "text/plain": [
       "<Figure size 576x576 with 2 Axes>"
      ]
     },
     "metadata": {
      "needs_background": "light"
     },
     "output_type": "display_data"
    }
   ],
   "source": [
    "acc = history.history['accuracy']\n",
    "val_acc = history.history['val_accuracy']\n",
    "\n",
    "loss = history.history['loss']\n",
    "val_loss = history.history['val_loss']\n",
    "\n",
    "epochs_range = range(epochs)\n",
    "\n",
    "plt.figure(figsize=(8, 8))\n",
    "plt.subplot(1, 2, 1)\n",
    "plt.plot(epochs_range, acc, label='Training Accuracy')\n",
    "plt.plot(epochs_range, val_acc, label='Validation Accuracy')\n",
    "plt.legend(loc='lower right')\n",
    "plt.title('Training and Validation Accuracy')\n",
    "\n",
    "plt.subplot(1, 2, 2)\n",
    "plt.plot(epochs_range, loss, label='Training Loss')\n",
    "plt.plot(epochs_range, val_loss, label='Validation Loss')\n",
    "plt.legend(loc='upper right')\n",
    "plt.title('Training and Validation Loss')\n",
    "plt.show()"
   ]
  },
  {
   "cell_type": "code",
   "execution_count": 249,
   "metadata": {},
   "outputs": [],
   "source": [
    "model = Sequential([\n",
    "  layers.Rescaling(1./255, input_shape=(img_height, img_width, 3)),\n",
    "  layers.Conv2D(16, 3, padding='same', activation='relu'),\n",
    "  layers.MaxPooling2D(),\n",
    "  layers.Conv2D(32, 3, padding='same', activation='relu'),\n",
    "  layers.MaxPooling2D(),\n",
    "  layers.Flatten(),\n",
    "  layers.Dense(len(class_names)),\n",
    "  layers.Dropout(0.3)\n",
    "])"
   ]
  },
  {
   "cell_type": "code",
   "execution_count": 250,
   "metadata": {},
   "outputs": [],
   "source": [
    "model.compile(optimizer='adam',\n",
    "              loss=tf.keras.losses.SparseCategoricalCrossentropy(from_logits=True),\n",
    "              metrics=['accuracy'])"
   ]
  },
  {
   "cell_type": "code",
   "execution_count": 251,
   "metadata": {},
   "outputs": [
    {
     "name": "stdout",
     "output_type": "stream",
     "text": [
      "Model: \"sequential_15\"\n",
      "_________________________________________________________________\n",
      "Layer (type)                 Output Shape              Param #   \n",
      "=================================================================\n",
      "rescaling_15 (Rescaling)     (None, 128, 128, 3)       0         \n",
      "_________________________________________________________________\n",
      "conv2d_25 (Conv2D)           (None, 128, 128, 16)      448       \n",
      "_________________________________________________________________\n",
      "max_pooling2d_25 (MaxPooling (None, 64, 64, 16)        0         \n",
      "_________________________________________________________________\n",
      "conv2d_26 (Conv2D)           (None, 64, 64, 32)        4640      \n",
      "_________________________________________________________________\n",
      "max_pooling2d_26 (MaxPooling (None, 32, 32, 32)        0         \n",
      "_________________________________________________________________\n",
      "flatten_15 (Flatten)         (None, 32768)             0         \n",
      "_________________________________________________________________\n",
      "dense_15 (Dense)             (None, 2)                 65538     \n",
      "_________________________________________________________________\n",
      "dropout_7 (Dropout)          (None, 2)                 0         \n",
      "=================================================================\n",
      "Total params: 70,626\n",
      "Trainable params: 70,626\n",
      "Non-trainable params: 0\n",
      "_________________________________________________________________\n"
     ]
    }
   ],
   "source": [
    "model.summary()"
   ]
  },
  {
   "cell_type": "code",
   "execution_count": 252,
   "metadata": {},
   "outputs": [
    {
     "name": "stdout",
     "output_type": "stream",
     "text": [
      "Epoch 1/10\n",
      "10/10 [==============================] - 1s 93ms/step - loss: 1.1888 - accuracy: 0.5862 - val_loss: 0.8588 - val_accuracy: 0.4675\n",
      "Epoch 2/10\n",
      "10/10 [==============================] - 1s 80ms/step - loss: 0.7913 - accuracy: 0.6138 - val_loss: 0.6537 - val_accuracy: 0.6364\n",
      "Epoch 3/10\n",
      "10/10 [==============================] - 1s 80ms/step - loss: 0.6049 - accuracy: 0.6966 - val_loss: 0.7617 - val_accuracy: 0.4675\n",
      "Epoch 4/10\n",
      "10/10 [==============================] - 1s 81ms/step - loss: 0.5492 - accuracy: 0.7655 - val_loss: 0.6068 - val_accuracy: 0.7273\n",
      "Epoch 5/10\n",
      "10/10 [==============================] - 1s 81ms/step - loss: 0.4573 - accuracy: 0.7724 - val_loss: 0.7008 - val_accuracy: 0.6104\n",
      "Epoch 6/10\n",
      "10/10 [==============================] - 1s 80ms/step - loss: 0.3773 - accuracy: 0.8345 - val_loss: 0.6795 - val_accuracy: 0.7273\n",
      "Epoch 7/10\n",
      "10/10 [==============================] - 1s 80ms/step - loss: 0.3117 - accuracy: 0.8690 - val_loss: 0.5891 - val_accuracy: 0.7532\n",
      "Epoch 8/10\n",
      "10/10 [==============================] - 1s 80ms/step - loss: 0.2649 - accuracy: 0.8897 - val_loss: 0.7667 - val_accuracy: 0.7273\n",
      "Epoch 9/10\n",
      "10/10 [==============================] - 1s 80ms/step - loss: 0.2502 - accuracy: 0.8897 - val_loss: 0.8718 - val_accuracy: 0.7273\n",
      "Epoch 10/10\n",
      "10/10 [==============================] - 1s 80ms/step - loss: 0.2320 - accuracy: 0.9448 - val_loss: 0.7539 - val_accuracy: 0.7532\n"
     ]
    }
   ],
   "source": [
    "epochs=10\n",
    "history = model.fit(\n",
    "  train_dataset,\n",
    "  validation_data=validation_dataset,\n",
    "  epochs=epochs\n",
    ")"
   ]
  },
  {
   "cell_type": "code",
   "execution_count": 253,
   "metadata": {},
   "outputs": [
    {
     "data": {
      "image/png": "[encoded data removed]",
      "text/plain": [
       "<Figure size 576x576 with 2 Axes>"
      ]
     },
     "metadata": {
      "needs_background": "light"
     },
     "output_type": "display_data"
    }
   ],
   "source": [
    "acc = history.history['accuracy']\n",
    "val_acc = history.history['val_accuracy']\n",
    "\n",
    "loss = history.history['loss']\n",
    "val_loss = history.history['val_loss']\n",
    "\n",
    "epochs_range = range(epochs)\n",
    "\n",
    "plt.figure(figsize=(8, 8))\n",
    "plt.subplot(1, 2, 1)\n",
    "plt.plot(epochs_range, acc, label='Training Accuracy')\n",
    "plt.plot(epochs_range, val_acc, label='Validation Accuracy')\n",
    "plt.legend(loc='lower right')\n",
    "plt.title('Training and Validation Accuracy')\n",
    "\n",
    "plt.subplot(1, 2, 2)\n",
    "plt.plot(epochs_range, loss, label='Training Loss')\n",
    "plt.plot(epochs_range, val_loss, label='Validation Loss')\n",
    "plt.legend(loc='upper right')\n",
    "plt.title('Training and Validation Loss')\n",
    "plt.show()"
   ]
  },
  {
   "cell_type": "markdown",
   "metadata": {},
   "source": [
    "# Data augmentation"
   ]
  },
  {
   "cell_type": "code",
   "execution_count": 254,
   "metadata": {},
   "outputs": [],
   "source": [
    "import os"
   ]
  },
  {
   "cell_type": "code",
   "execution_count": 255,
   "metadata": {},
   "outputs": [],
   "source": [
    "from PIL import Image, ImageFilter, ImageEnhance, ImageOps"
   ]
  },
  {
   "cell_type": "code",
   "execution_count": 256,
   "metadata": {},
   "outputs": [],
   "source": [
    "path = '../dataset/train/'\n",
    "files = os.listdir(path)\n",
    "for element in files :\n",
    "    path_complet=path+element\n",
    "    pics = os.listdir(path_complet)\n",
    "    for pic in pics:\n",
    "        OriImage = Image.open(path_complet+'/'+pic)\n",
    "        OriImage = OriImage.convert('RGB')\n",
    "        blurImage = OriImage.filter(ImageFilter.BLUR)\n",
    "        blurImage.save(path_complet+'/'+'blur'+pic)"
   ]
  },
  {
   "cell_type": "code",
   "execution_count": 257,
   "metadata": {},
   "outputs": [],
   "source": [
    "path = '../dataset/train/'\n",
    "files = os.listdir(path)\n",
    "for element in files :\n",
    "    path_complet=path+element\n",
    "    pics = os.listdir(path_complet)\n",
    "    for pic in pics:\n",
    "        OriImage = Image.open(path_complet+'/'+pic)\n",
    "        OriImage = OriImage.convert('RGB')\n",
    "        greyscaleImage = ImageOps.grayscale(OriImage)\n",
    "        greyscaleImage.save(path_complet+'/'+'grey'+pic)"
   ]
  },
  {
   "cell_type": "code",
   "execution_count": 258,
   "metadata": {},
   "outputs": [],
   "source": [
    "data_dir_train = '../dataset/train'\n",
    "os.listdir(data_dir_train)\n",
    "data_dir_train = pathlib.Path(data_dir_train)"
   ]
  },
  {
   "cell_type": "code",
   "execution_count": 259,
   "metadata": {},
   "outputs": [
    {
     "name": "stdout",
     "output_type": "stream",
     "text": [
      "Found 580 files belonging to 2 classes.\n"
     ]
    }
   ],
   "source": [
    "train_dataset = tf.keras.utils.image_dataset_from_directory(\n",
    "  data_dir_train,\n",
    "  seed=1,\n",
    "  image_size=(img_height, img_width),\n",
    "  batch_size=batch_size)"
   ]
  },
  {
   "cell_type": "code",
   "execution_count": 260,
   "metadata": {},
   "outputs": [],
   "source": [
    "data_dir_val = '../dataset/validation'\n",
    "os.listdir(data_dir_val)\n",
    "data_dir_train = pathlib.Path(data_dir_val)"
   ]
  },
  {
   "cell_type": "code",
   "execution_count": 261,
   "metadata": {},
   "outputs": [
    {
     "name": "stdout",
     "output_type": "stream",
     "text": [
      "Found 77 files belonging to 2 classes.\n"
     ]
    }
   ],
   "source": [
    "validation_dataset = tf.keras.utils.image_dataset_from_directory(\n",
    "    data_dir_val,\n",
    "    seed=1,\n",
    "    image_size=(img_height, img_width),\n",
    "    batch_size=batch_size)"
   ]
  },
  {
   "cell_type": "code",
   "execution_count": 262,
   "metadata": {},
   "outputs": [],
   "source": [
    "model = Sequential([\n",
    "  layers.Rescaling(1./255, input_shape=(img_height, img_width, 3)),\n",
    "  layers.Conv2D(16, 3, padding='same', activation='relu'),\n",
    "  layers.MaxPooling2D(),\n",
    "  layers.Conv2D(32, 3, padding='same', activation='relu'),\n",
    "  layers.MaxPooling2D(),\n",
    "  layers.Flatten(),\n",
    "  layers.Dense(len(class_names)),\n",
    "  layers.Dropout(0.3)\n",
    "])"
   ]
  },
  {
   "cell_type": "code",
   "execution_count": 263,
   "metadata": {},
   "outputs": [],
   "source": [
    "model.compile(optimizer='adam',\n",
    "              loss=tf.keras.losses.SparseCategoricalCrossentropy(from_logits=True),\n",
    "              metrics=['accuracy'])"
   ]
  },
  {
   "cell_type": "code",
   "execution_count": 264,
   "metadata": {},
   "outputs": [
    {
     "name": "stdout",
     "output_type": "stream",
     "text": [
      "Model: \"sequential_16\"\n",
      "_________________________________________________________________\n",
      "Layer (type)                 Output Shape              Param #   \n",
      "=================================================================\n",
      "rescaling_16 (Rescaling)     (None, 128, 128, 3)       0         \n",
      "_________________________________________________________________\n",
      "conv2d_27 (Conv2D)           (None, 128, 128, 16)      448       \n",
      "_________________________________________________________________\n",
      "max_pooling2d_27 (MaxPooling (None, 64, 64, 16)        0         \n",
      "_________________________________________________________________\n",
      "conv2d_28 (Conv2D)           (None, 64, 64, 32)        4640      \n",
      "_________________________________________________________________\n",
      "max_pooling2d_28 (MaxPooling (None, 32, 32, 32)        0         \n",
      "_________________________________________________________________\n",
      "flatten_16 (Flatten)         (None, 32768)             0         \n",
      "_________________________________________________________________\n",
      "dense_16 (Dense)             (None, 2)                 65538     \n",
      "_________________________________________________________________\n",
      "dropout_8 (Dropout)          (None, 2)                 0         \n",
      "=================================================================\n",
      "Total params: 70,626\n",
      "Trainable params: 70,626\n",
      "Non-trainable params: 0\n",
      "_________________________________________________________________\n"
     ]
    }
   ],
   "source": [
    "model.summary()"
   ]
  },
  {
   "cell_type": "code",
   "execution_count": 265,
   "metadata": {},
   "outputs": [
    {
     "name": "stdout",
     "output_type": "stream",
     "text": [
      "Epoch 1/10\n",
      "37/37 [==============================] - 3s 81ms/step - loss: 0.8172 - accuracy: 0.6155 - val_loss: 0.7313 - val_accuracy: 0.5065\n",
      "Epoch 2/10\n",
      "37/37 [==============================] - 3s 76ms/step - loss: 0.4548 - accuracy: 0.7948 - val_loss: 0.8712 - val_accuracy: 0.6623\n",
      "Epoch 3/10\n",
      "37/37 [==============================] - 3s 80ms/step - loss: 0.3205 - accuracy: 0.8828 - val_loss: 0.8869 - val_accuracy: 0.6753\n",
      "Epoch 4/10\n",
      "37/37 [==============================] - 3s 79ms/step - loss: 0.2366 - accuracy: 0.9155 - val_loss: 0.7737 - val_accuracy: 0.7143\n",
      "Epoch 5/10\n",
      "37/37 [==============================] - 3s 76ms/step - loss: 0.1610 - accuracy: 0.9345 - val_loss: 1.3325 - val_accuracy: 0.7013\n",
      "Epoch 6/10\n",
      "37/37 [==============================] - 3s 76ms/step - loss: 0.1319 - accuracy: 0.9431 - val_loss: 1.3291 - val_accuracy: 0.7013\n",
      "Epoch 7/10\n",
      "37/37 [==============================] - 3s 75ms/step - loss: 0.1473 - accuracy: 0.9483 - val_loss: 1.2723 - val_accuracy: 0.7273\n",
      "Epoch 8/10\n",
      "37/37 [==============================] - 3s 75ms/step - loss: 0.1011 - accuracy: 0.9638 - val_loss: 1.8406 - val_accuracy: 0.6623\n",
      "Epoch 9/10\n",
      "37/37 [==============================] - 3s 76ms/step - loss: 0.1119 - accuracy: 0.9655 - val_loss: 1.4813 - val_accuracy: 0.6753\n",
      "Epoch 10/10\n",
      "37/37 [==============================] - 3s 75ms/step - loss: 0.0825 - accuracy: 0.9655 - val_loss: 1.7551 - val_accuracy: 0.7013\n"
     ]
    }
   ],
   "source": [
    "epochs=10\n",
    "history = model.fit(\n",
    "  train_dataset,\n",
    "  validation_data=validation_dataset,\n",
    "  epochs=epochs\n",
    ")"
   ]
  },
  {
   "cell_type": "code",
   "execution_count": null,
   "metadata": {},
   "outputs": [],
   "source": []
  }
 ],
 "metadata": {
  "kernelspec": {
   "display_name": "Python 3",
   "language": "python",
   "name": "python3"
  },
  "language_info": {
   "codemirror_mode": {
    "name": "ipython",
    "version": 3
   },
   "file_extension": ".py",
   "mimetype": "text/x-python",
   "name": "python",
   "nbconvert_exporter": "python",
   "pygments_lexer": "ipython3",
   "version": "3.8.5"
  }
 },
 "nbformat": 4,
 "nbformat_minor": 4
}
